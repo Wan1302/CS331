{
 "cells": [
  {
   "cell_type": "code",
   "execution_count": null,
   "id": "a83dcf26",
   "metadata": {},
   "outputs": [],
   "source": [
    "%pip install pycocotools"
   ]
  },
  {
   "cell_type": "code",
   "execution_count": null,
   "id": "9c7f973d",
   "metadata": {},
   "outputs": [],
   "source": [
    "%python scripts/train_faster_rcnn.py --data_dir \"../datasets\" --batch_size 4 --epochs 5 --eval_every 5 --iter_every 100 --num_classes 7 --yaml \"data.yaml\" --lr 0.01  --resize 640 --is_aug 0"
   ]
  }
 ],
 "metadata": {
  "language_info": {
   "name": "python"
  }
 },
 "nbformat": 4,
 "nbformat_minor": 5
}
