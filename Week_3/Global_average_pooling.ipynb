{
 "cells": [
  {
   "cell_type": "code",
   "execution_count": 69,
   "metadata": {},
   "outputs": [],
   "source": [
    "import torch\n",
    "import torchvision.models as models\n",
    "import numpy as np\n",
    "from sklearn.metrics import accuracy_score, classification_report, confusion_matrix\n",
    "import seaborn as sns\n",
    "import matplotlib.pyplot as plt\n",
    "import random\n",
    "import os\n",
    "import cv2\n",
    "import numpy as np\n",
    "import random\n",
    "import torch.nn as nn\n",
    "import torch.optim as optim\n",
    "import torchvision.transforms as transforms\n",
    "from torchvision.datasets import ImageFolder\n",
    "from torch.utils.data import DataLoader"
   ]
  },
  {
   "cell_type": "code",
   "execution_count": 70,
   "metadata": {},
   "outputs": [
    {
     "data": {
      "text/plain": [
       "device(type='cuda')"
      ]
     },
     "execution_count": 70,
     "metadata": {},
     "output_type": "execute_result"
    }
   ],
   "source": [
    "device = torch.device(\"cuda\" if torch.cuda.is_available() else \"cpu\")\n",
    "device"
   ]
  },
  {
   "cell_type": "markdown",
   "metadata": {},
   "source": [
    "## Build mini AlexNet model from scratch, replace Flaten with Global Average Pooling"
   ]
  },
  {
   "cell_type": "code",
   "execution_count": 71,
   "metadata": {},
   "outputs": [],
   "source": [
    "num_classes = 2\n",
    "\n",
    "class AlexNet(nn.Module):\n",
    "    def __init__(self, in_channels, num_classes):\n",
    "        super(AlexNet, self).__init__()\n",
    "        # Convolutional layers\n",
    "        self.features = nn.Sequential(\n",
    "            nn.Conv2d(in_channels, 64, kernel_size=3, stride=4),\n",
    "            nn.ReLU(inplace=True),\n",
    "            nn.MaxPool2d(kernel_size=3, stride=2),\n",
    "\n",
    "            nn.Conv2d(64, 128, kernel_size=3, padding=1),\n",
    "            nn.ReLU(inplace=True),\n",
    "            nn.MaxPool2d(kernel_size=3, stride=2),\n",
    "\n",
    "            nn.Conv2d(128, 512, kernel_size=3, padding=1),\n",
    "            nn.ReLU(inplace=True),\n",
    "            nn.Conv2d(512, 512, kernel_size=3, padding=1),\n",
    "            nn.ReLU(inplace=True),\n",
    "            nn.Conv2d(512, 256, kernel_size=3, padding=1),\n",
    "            nn.ReLU(inplace=True),\n",
    "            nn.MaxPool2d(kernel_size=3, stride=2),\n",
    "        )\n",
    "\n",
    "        self.avgpool = nn.AdaptiveAvgPool2d(1)\n",
    "\n",
    "        # Classifier layers\n",
    "        self.classifier = nn.Sequential(\n",
    "            nn.Dropout(0.5),\n",
    "            nn.Linear(256, 2048),\n",
    "            nn.ReLU(inplace=True),\n",
    "            nn.Dropout(0.5),\n",
    "            nn.Linear(2048, 2048),\n",
    "            nn.ReLU(inplace=True),\n",
    "            nn.Linear(2048, num_classes),\n",
    "        )\n",
    "    \n",
    "    def forward(self, x):\n",
    "        x = self.features(x)\n",
    "        x = self.avgpool(x)\n",
    "        x = torch.flatten(x, 1)\n",
    "        x = self.classifier(x)\n",
    "        return x"
   ]
  },
  {
   "cell_type": "code",
   "execution_count": 72,
   "metadata": {},
   "outputs": [],
   "source": [
    "model = AlexNet(3, num_classes).to(device)"
   ]
  },
  {
   "cell_type": "code",
   "execution_count": 73,
   "metadata": {},
   "outputs": [
    {
     "data": {
      "text/plain": [
       "==========================================================================================\n",
       "Layer (type:depth-idx)                   Output Shape              Param #\n",
       "==========================================================================================\n",
       "AlexNet                                  [1, 2]                    --\n",
       "├─Sequential: 1-1                        [1, 256, 6, 6]            --\n",
       "│    └─Conv2d: 2-1                       [1, 64, 57, 57]           1,792\n",
       "│    └─ReLU: 2-2                         [1, 64, 57, 57]           --\n",
       "│    └─MaxPool2d: 2-3                    [1, 64, 28, 28]           --\n",
       "│    └─Conv2d: 2-4                       [1, 128, 28, 28]          73,856\n",
       "│    └─ReLU: 2-5                         [1, 128, 28, 28]          --\n",
       "│    └─MaxPool2d: 2-6                    [1, 128, 13, 13]          --\n",
       "│    └─Conv2d: 2-7                       [1, 512, 13, 13]          590,336\n",
       "│    └─ReLU: 2-8                         [1, 512, 13, 13]          --\n",
       "│    └─Conv2d: 2-9                       [1, 512, 13, 13]          2,359,808\n",
       "│    └─ReLU: 2-10                        [1, 512, 13, 13]          --\n",
       "│    └─Conv2d: 2-11                      [1, 256, 13, 13]          1,179,904\n",
       "│    └─ReLU: 2-12                        [1, 256, 13, 13]          --\n",
       "│    └─MaxPool2d: 2-13                   [1, 256, 6, 6]            --\n",
       "├─AdaptiveAvgPool2d: 1-2                 [1, 256, 1, 1]            --\n",
       "├─Sequential: 1-3                        [1, 2]                    --\n",
       "│    └─Dropout: 2-14                     [1, 256]                  --\n",
       "│    └─Linear: 2-15                      [1, 2048]                 526,336\n",
       "│    └─ReLU: 2-16                        [1, 2048]                 --\n",
       "│    └─Dropout: 2-17                     [1, 2048]                 --\n",
       "│    └─Linear: 2-18                      [1, 2048]                 4,196,352\n",
       "│    └─ReLU: 2-19                        [1, 2048]                 --\n",
       "│    └─Linear: 2-20                      [1, 2]                    4,098\n",
       "==========================================================================================\n",
       "Total params: 8,932,482\n",
       "Trainable params: 8,932,482\n",
       "Non-trainable params: 0\n",
       "Total mult-adds (Units.MEGABYTES): 766.43\n",
       "==========================================================================================\n",
       "Input size (MB): 0.62\n",
       "Forward/backward pass size (MB): 4.23\n",
       "Params size (MB): 35.73\n",
       "Estimated Total Size (MB): 40.58\n",
       "=========================================================================================="
      ]
     },
     "execution_count": 73,
     "metadata": {},
     "output_type": "execute_result"
    }
   ],
   "source": [
    "from torchinfo import summary\n",
    "summary(model, (1, 3, 227, 227))"
   ]
  },
  {
   "cell_type": "code",
   "execution_count": 74,
   "metadata": {},
   "outputs": [],
   "source": [
    "criterion = nn.CrossEntropyLoss()\n",
    "optimizer = optim.Adam(model.classifier.parameters(), lr=10**-6)"
   ]
  },
  {
   "cell_type": "code",
   "execution_count": 75,
   "metadata": {},
   "outputs": [],
   "source": [
    "transform = transforms.Compose([\n",
    "    transforms.Resize((227, 227)),\n",
    "    transforms.ToTensor(),\n",
    "    transforms.Normalize(mean=[0.485, 0.456, 0.406], std=[0.229, 0.224, 0.225])\n",
    "])\n",
    "\n",
    "train_data = ImageFolder(root='augmented_data/train', transform=transform)\n",
    "val_data = ImageFolder(root='augmented_data/val', transform=transform)\n",
    "test_data = ImageFolder(root='augmented_data/test', transform=transform)\n",
    "\n",
    "train_loader = DataLoader(train_data, batch_size=32, shuffle=True)\n",
    "val_loader = DataLoader(val_data, batch_size=32, shuffle=False)\n",
    "test_loader = DataLoader(test_data, batch_size=32, shuffle=False)"
   ]
  },
  {
   "cell_type": "code",
   "execution_count": 76,
   "metadata": {},
   "outputs": [
    {
     "name": "stdout",
     "output_type": "stream",
     "text": [
      "Epoch 1/100, Train Loss: 0.6934, Val Loss: 0.6919\n",
      "Epoch 2/100, Train Loss: 0.6934, Val Loss: 0.6919\n",
      "Epoch 3/100, Train Loss: 0.6934, Val Loss: 0.6918\n",
      "Epoch 4/100, Train Loss: 0.6932, Val Loss: 0.6916\n",
      "Epoch 5/100, Train Loss: 0.6933, Val Loss: 0.6916\n",
      "Epoch 6/100, Train Loss: 0.6928, Val Loss: 0.6915\n",
      "Epoch 7/100, Train Loss: 0.6929, Val Loss: 0.6913\n",
      "Epoch 8/100, Train Loss: 0.6926, Val Loss: 0.6912\n",
      "Epoch 9/100, Train Loss: 0.6927, Val Loss: 0.6911\n",
      "Epoch 10/100, Train Loss: 0.6923, Val Loss: 0.6910\n",
      "Epoch 11/100, Train Loss: 0.6922, Val Loss: 0.6909\n",
      "Epoch 12/100, Train Loss: 0.6918, Val Loss: 0.6908\n",
      "Epoch 13/100, Train Loss: 0.6919, Val Loss: 0.6906\n",
      "Epoch 14/100, Train Loss: 0.6918, Val Loss: 0.6905\n",
      "Epoch 15/100, Train Loss: 0.6917, Val Loss: 0.6904\n",
      "Epoch 16/100, Train Loss: 0.6913, Val Loss: 0.6903\n",
      "Epoch 17/100, Train Loss: 0.6914, Val Loss: 0.6901\n",
      "Epoch 18/100, Train Loss: 0.6915, Val Loss: 0.6900\n",
      "Epoch 19/100, Train Loss: 0.6915, Val Loss: 0.6899\n",
      "Epoch 20/100, Train Loss: 0.6910, Val Loss: 0.6898\n",
      "Epoch 21/100, Train Loss: 0.6909, Val Loss: 0.6896\n",
      "Epoch 22/100, Train Loss: 0.6908, Val Loss: 0.6895\n",
      "Epoch 23/100, Train Loss: 0.6908, Val Loss: 0.6893\n",
      "Epoch 24/100, Train Loss: 0.6903, Val Loss: 0.6892\n",
      "Epoch 25/100, Train Loss: 0.6902, Val Loss: 0.6890\n",
      "Epoch 26/100, Train Loss: 0.6903, Val Loss: 0.6889\n",
      "Epoch 27/100, Train Loss: 0.6898, Val Loss: 0.6887\n",
      "Epoch 28/100, Train Loss: 0.6903, Val Loss: 0.6885\n",
      "Epoch 29/100, Train Loss: 0.6901, Val Loss: 0.6884\n",
      "Epoch 30/100, Train Loss: 0.6900, Val Loss: 0.6882\n",
      "Epoch 31/100, Train Loss: 0.6897, Val Loss: 0.6881\n",
      "Epoch 32/100, Train Loss: 0.6893, Val Loss: 0.6879\n",
      "Epoch 33/100, Train Loss: 0.6894, Val Loss: 0.6877\n",
      "Epoch 34/100, Train Loss: 0.6891, Val Loss: 0.6875\n",
      "Epoch 35/100, Train Loss: 0.6890, Val Loss: 0.6874\n",
      "Epoch 36/100, Train Loss: 0.6887, Val Loss: 0.6872\n",
      "Epoch 37/100, Train Loss: 0.6886, Val Loss: 0.6870\n",
      "Epoch 38/100, Train Loss: 0.6886, Val Loss: 0.6868\n",
      "Epoch 39/100, Train Loss: 0.6884, Val Loss: 0.6867\n",
      "Epoch 40/100, Train Loss: 0.6881, Val Loss: 0.6865\n",
      "Epoch 41/100, Train Loss: 0.6880, Val Loss: 0.6863\n",
      "Epoch 42/100, Train Loss: 0.6881, Val Loss: 0.6860\n",
      "Epoch 43/100, Train Loss: 0.6877, Val Loss: 0.6859\n",
      "Epoch 44/100, Train Loss: 0.6873, Val Loss: 0.6857\n",
      "Epoch 45/100, Train Loss: 0.6875, Val Loss: 0.6854\n",
      "Epoch 46/100, Train Loss: 0.6873, Val Loss: 0.6852\n",
      "Epoch 47/100, Train Loss: 0.6872, Val Loss: 0.6850\n",
      "Epoch 48/100, Train Loss: 0.6866, Val Loss: 0.6848\n",
      "Epoch 49/100, Train Loss: 0.6867, Val Loss: 0.6845\n",
      "Epoch 50/100, Train Loss: 0.6860, Val Loss: 0.6843\n",
      "Epoch 51/100, Train Loss: 0.6864, Val Loss: 0.6841\n",
      "Epoch 52/100, Train Loss: 0.6862, Val Loss: 0.6838\n",
      "Epoch 53/100, Train Loss: 0.6863, Val Loss: 0.6836\n",
      "Epoch 54/100, Train Loss: 0.6854, Val Loss: 0.6833\n",
      "Epoch 55/100, Train Loss: 0.6858, Val Loss: 0.6830\n",
      "Epoch 56/100, Train Loss: 0.6854, Val Loss: 0.6828\n",
      "Epoch 57/100, Train Loss: 0.6849, Val Loss: 0.6825\n",
      "Epoch 58/100, Train Loss: 0.6849, Val Loss: 0.6822\n",
      "Epoch 59/100, Train Loss: 0.6849, Val Loss: 0.6820\n",
      "Epoch 60/100, Train Loss: 0.6844, Val Loss: 0.6817\n",
      "Epoch 61/100, Train Loss: 0.6838, Val Loss: 0.6814\n",
      "Epoch 62/100, Train Loss: 0.6838, Val Loss: 0.6810\n",
      "Epoch 63/100, Train Loss: 0.6841, Val Loss: 0.6807\n",
      "Epoch 64/100, Train Loss: 0.6838, Val Loss: 0.6804\n",
      "Epoch 65/100, Train Loss: 0.6829, Val Loss: 0.6801\n",
      "Epoch 66/100, Train Loss: 0.6837, Val Loss: 0.6798\n",
      "Epoch 67/100, Train Loss: 0.6830, Val Loss: 0.6794\n",
      "Epoch 68/100, Train Loss: 0.6827, Val Loss: 0.6792\n",
      "Epoch 69/100, Train Loss: 0.6818, Val Loss: 0.6788\n",
      "Epoch 70/100, Train Loss: 0.6821, Val Loss: 0.6784\n",
      "Epoch 71/100, Train Loss: 0.6817, Val Loss: 0.6780\n",
      "Epoch 72/100, Train Loss: 0.6815, Val Loss: 0.6777\n",
      "Epoch 73/100, Train Loss: 0.6815, Val Loss: 0.6773\n",
      "Epoch 74/100, Train Loss: 0.6807, Val Loss: 0.6769\n",
      "Epoch 75/100, Train Loss: 0.6804, Val Loss: 0.6765\n",
      "Epoch 76/100, Train Loss: 0.6799, Val Loss: 0.6761\n",
      "Epoch 77/100, Train Loss: 0.6804, Val Loss: 0.6757\n",
      "Epoch 78/100, Train Loss: 0.6803, Val Loss: 0.6753\n",
      "Epoch 79/100, Train Loss: 0.6798, Val Loss: 0.6749\n",
      "Epoch 80/100, Train Loss: 0.6795, Val Loss: 0.6745\n",
      "Epoch 81/100, Train Loss: 0.6796, Val Loss: 0.6741\n",
      "Epoch 82/100, Train Loss: 0.6784, Val Loss: 0.6736\n",
      "Epoch 83/100, Train Loss: 0.6780, Val Loss: 0.6732\n",
      "Epoch 84/100, Train Loss: 0.6778, Val Loss: 0.6728\n",
      "Epoch 85/100, Train Loss: 0.6777, Val Loss: 0.6724\n",
      "Epoch 86/100, Train Loss: 0.6775, Val Loss: 0.6718\n",
      "Epoch 87/100, Train Loss: 0.6767, Val Loss: 0.6714\n",
      "Epoch 88/100, Train Loss: 0.6760, Val Loss: 0.6709\n",
      "Epoch 89/100, Train Loss: 0.6757, Val Loss: 0.6703\n",
      "Epoch 90/100, Train Loss: 0.6747, Val Loss: 0.6699\n",
      "Epoch 91/100, Train Loss: 0.6752, Val Loss: 0.6693\n",
      "Epoch 92/100, Train Loss: 0.6752, Val Loss: 0.6688\n",
      "Epoch 93/100, Train Loss: 0.6754, Val Loss: 0.6682\n",
      "Epoch 94/100, Train Loss: 0.6745, Val Loss: 0.6677\n",
      "Epoch 95/100, Train Loss: 0.6733, Val Loss: 0.6672\n",
      "Epoch 96/100, Train Loss: 0.6740, Val Loss: 0.6667\n",
      "Epoch 97/100, Train Loss: 0.6732, Val Loss: 0.6662\n",
      "Epoch 98/100, Train Loss: 0.6733, Val Loss: 0.6656\n",
      "Epoch 99/100, Train Loss: 0.6713, Val Loss: 0.6651\n",
      "Epoch 100/100, Train Loss: 0.6722, Val Loss: 0.6645\n"
     ]
    },
    {
     "data": {
      "image/png": "[encoded data removed]",
      "text/plain": [
       "<Figure size 1000x500 with 1 Axes>"
      ]
     },
     "metadata": {},
     "output_type": "display_data"
    }
   ],
   "source": [
    "num_epochs = 100\n",
    "train_losses = []\n",
    "val_losses = []\n",
    "\n",
    "for epoch in range(num_epochs):\n",
    "    model.train()\n",
    "    running_loss = 0.0\n",
    "\n",
    "    for images, labels in train_loader:\n",
    "        images, labels = images.to(device), labels.to(device)\n",
    "\n",
    "        optimizer.zero_grad()\n",
    "        outputs = model(images)\n",
    "        loss = criterion(outputs, labels)\n",
    "        loss.backward()\n",
    "        optimizer.step()\n",
    "\n",
    "        running_loss += loss.item()\n",
    "\n",
    "    avg_train_loss = running_loss / len(train_loader)\n",
    "    train_losses.append(avg_train_loss)\n",
    "\n",
    "    model.eval()\n",
    "    val_loss = 0.0\n",
    "    with torch.no_grad():\n",
    "        for images, labels in val_loader:\n",
    "            images, labels = images.to(device), labels.to(device)\n",
    "            outputs = model(images)\n",
    "            loss = criterion(outputs, labels)\n",
    "            val_loss += loss.item()\n",
    "\n",
    "    avg_val_loss = val_loss / len(val_loader)\n",
    "    val_losses.append(avg_val_loss)\n",
    "\n",
    "    print(f\"Epoch {epoch+1}/{num_epochs}, Train Loss: {avg_train_loss:.4f}, Val Loss: {avg_val_loss:.4f}\")\n",
    "\n",
    "plt.figure(figsize=(10, 5))\n",
    "plt.plot(range(1, num_epochs + 1), train_losses, label=\"Train Loss\", marker='o')\n",
    "plt.plot(range(1, num_epochs + 1), val_losses, label=\"Validation Loss\", marker='s')\n",
    "\n",
    "plt.xlabel(\"Epoch\")\n",
    "plt.ylabel(\"Loss\")\n",
    "plt.title(\"Training and Validation Loss Over Epochs\")\n",
    "plt.legend()\n",
    "plt.grid()\n",
    "plt.show()"
   ]
  },
  {
   "cell_type": "code",
   "execution_count": 77,
   "metadata": {},
   "outputs": [
    {
     "name": "stdout",
     "output_type": "stream",
     "text": [
      "0.9\n",
      "              precision    recall  f1-score   support\n",
      "\n",
      "           0       0.88      0.93      0.90       150\n",
      "           1       0.92      0.87      0.90       150\n",
      "\n",
      "    accuracy                           0.90       300\n",
      "   macro avg       0.90      0.90      0.90       300\n",
      "weighted avg       0.90      0.90      0.90       300\n",
      "\n"
     ]
    }
   ],
   "source": [
    "model.eval()\n",
    "\n",
    "y_true = []\n",
    "y_pred = []\n",
    "\n",
    "with torch.no_grad():\n",
    "    for images, labels in test_loader:\n",
    "        images, labels = images.to(device), labels.to(device)\n",
    "\n",
    "        outputs = model(images)\n",
    "        _, predicted = torch.max(outputs, 1)\n",
    "\n",
    "        y_true.extend(labels.cpu().numpy())\n",
    "        y_pred.extend(predicted.cpu().numpy())\n",
    "\n",
    "acc = accuracy_score(y_true, y_pred)\n",
    "print(acc)\n",
    "result = classification_report(y_true, y_pred)\n",
    "print(result)\n"
   ]
  },
  {
   "cell_type": "code",
   "execution_count": 78,
   "metadata": {},
   "outputs": [
    {
     "data": {
      "image/png": "[encoded data removed]",
      "text/plain": [
       "<Figure size 600x500 with 2 Axes>"
      ]
     },
     "metadata": {},
     "output_type": "display_data"
    }
   ],
   "source": [
    "cm = confusion_matrix(y_true, y_pred)\n",
    "\n",
    "plt.figure(figsize=(6, 5))\n",
    "sns.heatmap(cm, annot=True, fmt=\"d\", cmap=\"Blues\", xticklabels=[\"Class 0\", \"Class 1\"], yticklabels=[\"Class 0\", \"Class 1\"])\n",
    "\n",
    "plt.xlabel(\"Predicted Label\")\n",
    "plt.ylabel(\"True Label\")\n",
    "plt.title(\"Confusion Matrix\")\n",
    "plt.show()"
   ]
  }
 ],
 "metadata": {
  "kernelspec": {
   "display_name": "Python 3",
   "language": "python",
   "name": "python3"
  },
  "language_info": {
   "codemirror_mode": {
    "name": "ipython",
    "version": 3
   },
   "file_extension": ".py",
   "mimetype": "text/x-python",
   "name": "python",
   "nbconvert_exporter": "python",
   "pygments_lexer": "ipython3",
   "version": "3.11.5"
  }
 },
 "nbformat": 4,
 "nbformat_minor": 2
}
