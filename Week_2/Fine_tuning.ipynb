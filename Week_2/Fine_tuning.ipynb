{
 "cells": [
  {
   "cell_type": "code",
   "execution_count": 1,
   "metadata": {},
   "outputs": [],
   "source": [
    "import torch\n",
    "import torchvision.models as models\n",
    "from PIL import Image\n",
    "import os\n",
    "from torch.utils.data import DataLoader, Dataset\n",
    "import torch.nn as nn\n",
    "import torch.optim as optim\n",
    "import torchvision.transforms as transforms\n",
    "from sklearn.metrics import accuracy_score, classification_report, confusion_matrix\n",
    "import seaborn as sns\n",
    "import matplotlib.pyplot as plt\n"
   ]
  },
  {
   "cell_type": "code",
   "execution_count": null,
   "metadata": {},
   "outputs": [
    {
     "name": "stderr",
     "output_type": "stream",
     "text": [
      "c:\\Users\\Admin\\AppData\\Local\\Programs\\Python\\Python311\\Lib\\site-packages\\torchvision\\models\\_utils.py:208: UserWarning: The parameter 'pretrained' is deprecated since 0.13 and may be removed in the future, please use 'weights' instead.\n",
      "  warnings.warn(\n",
      "c:\\Users\\Admin\\AppData\\Local\\Programs\\Python\\Python311\\Lib\\site-packages\\torchvision\\models\\_utils.py:223: UserWarning: Arguments other than a weight enum or `None` for 'weights' are deprecated since 0.13 and may be removed in the future. The current behavior is equivalent to passing `weights=VGG16_Weights.IMAGENET1K_V1`. You can also use `weights=VGG16_Weights.DEFAULT` to get the most up-to-date weights.\n",
      "  warnings.warn(msg)\n"
     ]
    }
   ],
   "source": [
    "vgg16 = models.vgg16(pretrained=True)\n",
    "\n",
    "for param in vgg16.features.parameters():\n",
    "    param.requires_grad = False\n",
    "\n",
    "num_features = vgg16.classifier[-1].in_features\n",
    "\n",
    "vgg16.classifier[-2] = nn.Linear(num_features, 2048)\n",
    "vgg16.classifier[-1] = nn.Linear(2048, 2)"
   ]
  },
  {
   "cell_type": "code",
   "execution_count": 3,
   "metadata": {},
   "outputs": [
    {
     "data": {
      "text/plain": [
       "VGG(\n",
       "  (features): Sequential(\n",
       "    (0): Conv2d(3, 64, kernel_size=(3, 3), stride=(1, 1), padding=(1, 1))\n",
       "    (1): ReLU(inplace=True)\n",
       "    (2): Conv2d(64, 64, kernel_size=(3, 3), stride=(1, 1), padding=(1, 1))\n",
       "    (3): ReLU(inplace=True)\n",
       "    (4): MaxPool2d(kernel_size=2, stride=2, padding=0, dilation=1, ceil_mode=False)\n",
       "    (5): Conv2d(64, 128, kernel_size=(3, 3), stride=(1, 1), padding=(1, 1))\n",
       "    (6): ReLU(inplace=True)\n",
       "    (7): Conv2d(128, 128, kernel_size=(3, 3), stride=(1, 1), padding=(1, 1))\n",
       "    (8): ReLU(inplace=True)\n",
       "    (9): MaxPool2d(kernel_size=2, stride=2, padding=0, dilation=1, ceil_mode=False)\n",
       "    (10): Conv2d(128, 256, kernel_size=(3, 3), stride=(1, 1), padding=(1, 1))\n",
       "    (11): ReLU(inplace=True)\n",
       "    (12): Conv2d(256, 256, kernel_size=(3, 3), stride=(1, 1), padding=(1, 1))\n",
       "    (13): ReLU(inplace=True)\n",
       "    (14): Conv2d(256, 256, kernel_size=(3, 3), stride=(1, 1), padding=(1, 1))\n",
       "    (15): ReLU(inplace=True)\n",
       "    (16): MaxPool2d(kernel_size=2, stride=2, padding=0, dilation=1, ceil_mode=False)\n",
       "    (17): Conv2d(256, 512, kernel_size=(3, 3), stride=(1, 1), padding=(1, 1))\n",
       "    (18): ReLU(inplace=True)\n",
       "    (19): Conv2d(512, 512, kernel_size=(3, 3), stride=(1, 1), padding=(1, 1))\n",
       "    (20): ReLU(inplace=True)\n",
       "    (21): Conv2d(512, 512, kernel_size=(3, 3), stride=(1, 1), padding=(1, 1))\n",
       "    (22): ReLU(inplace=True)\n",
       "    (23): MaxPool2d(kernel_size=2, stride=2, padding=0, dilation=1, ceil_mode=False)\n",
       "    (24): Conv2d(512, 512, kernel_size=(3, 3), stride=(1, 1), padding=(1, 1))\n",
       "    (25): ReLU(inplace=True)\n",
       "    (26): Conv2d(512, 512, kernel_size=(3, 3), stride=(1, 1), padding=(1, 1))\n",
       "    (27): ReLU(inplace=True)\n",
       "    (28): Conv2d(512, 512, kernel_size=(3, 3), stride=(1, 1), padding=(1, 1))\n",
       "    (29): ReLU(inplace=True)\n",
       "    (30): MaxPool2d(kernel_size=2, stride=2, padding=0, dilation=1, ceil_mode=False)\n",
       "  )\n",
       "  (avgpool): AdaptiveAvgPool2d(output_size=(7, 7))\n",
       "  (classifier): Sequential(\n",
       "    (0): Linear(in_features=25088, out_features=4096, bias=True)\n",
       "    (1): ReLU(inplace=True)\n",
       "    (2): Dropout(p=0.5, inplace=False)\n",
       "    (3): Linear(in_features=4096, out_features=4096, bias=True)\n",
       "    (4): ReLU(inplace=True)\n",
       "    (5): Linear(in_features=4096, out_features=256, bias=True)\n",
       "    (6): Linear(in_features=256, out_features=2, bias=True)\n",
       "  )\n",
       ")"
      ]
     },
     "execution_count": 3,
     "metadata": {},
     "output_type": "execute_result"
    }
   ],
   "source": [
    "device = torch.device(\"cuda\" if torch.cuda.is_available() else \"cpu\")\n",
    "vgg16.to(device)"
   ]
  },
  {
   "cell_type": "code",
   "execution_count": 4,
   "metadata": {},
   "outputs": [],
   "source": [
    "criterion = nn.CrossEntropyLoss()\n",
    "optimizer = optim.Adam(vgg16.classifier.parameters(), lr=1e-6)"
   ]
  },
  {
   "cell_type": "code",
   "execution_count": 5,
   "metadata": {},
   "outputs": [],
   "source": [
    "class ImageDataset(Dataset):\n",
    "    def __init__(self, root_dir, categories, transform=None):\n",
    "        self.root_dir = root_dir\n",
    "        self.categories = categories\n",
    "        self.transform = transform\n",
    "        self.data = []\n",
    "\n",
    "        for label, category in enumerate(categories):\n",
    "            category_path = os.path.join(root_dir, category)\n",
    "            for img_name in os.listdir(category_path):\n",
    "                img_path = os.path.join(category_path, img_name)\n",
    "                self.data.append((img_path, label))\n",
    "    \n",
    "    def __len__(self):\n",
    "        return len(self.data)\n",
    "    \n",
    "    def __getitem__(self, idx):\n",
    "        img_path, label = self.data[idx]\n",
    "        image = Image.open(img_path).convert(\"RGB\")\n",
    "\n",
    "        if self.transform:\n",
    "            image = self.transform(image)\n",
    "        \n",
    "        return image, label"
   ]
  },
  {
   "cell_type": "code",
   "execution_count": 6,
   "metadata": {},
   "outputs": [],
   "source": [
    "transform = transforms.Compose([\n",
    "    transforms.Resize((224, 224)), \n",
    "    transforms.ToTensor(), \n",
    "    transforms.Normalize(mean=[0.485, 0.456, 0.406], std=[0.229, 0.224, 0.225])\n",
    "])"
   ]
  },
  {
   "cell_type": "code",
   "execution_count": 7,
   "metadata": {},
   "outputs": [],
   "source": [
    "catagories = [\"black\", \"no_black\"]\n",
    "\n",
    "train_dataset = ImageDataset(\"augmented_data/train\", catagories, transform=transform)\n",
    "train_loader = DataLoader(train_dataset, batch_size=32, shuffle=True)\n",
    "\n",
    "val_dataset = ImageDataset(\"augmented_data/val\", catagories, transform=transform)\n",
    "val_loader = DataLoader(val_dataset, batch_size=32, shuffle=False)\n",
    "\n",
    "test_dataset = ImageDataset(\"augmented_data/test\", catagories, transform=transform)\n",
    "test_loader = DataLoader(test_dataset, batch_size=32, shuffle=False)"
   ]
  },
  {
   "cell_type": "code",
   "execution_count": 8,
   "metadata": {},
   "outputs": [
    {
     "name": "stdout",
     "output_type": "stream",
     "text": [
      "Epoch 1/100, Train Loss: 0.6858, Val Loss: 0.6689\n",
      "Epoch 2/100, Train Loss: 0.6320, Val Loss: 0.6344\n",
      "Epoch 3/100, Train Loss: 0.5843, Val Loss: 0.6051\n",
      "Epoch 4/100, Train Loss: 0.5476, Val Loss: 0.5805\n",
      "Epoch 5/100, Train Loss: 0.5105, Val Loss: 0.5580\n",
      "Epoch 6/100, Train Loss: 0.4784, Val Loss: 0.5372\n",
      "Epoch 7/100, Train Loss: 0.4483, Val Loss: 0.5194\n",
      "Epoch 8/100, Train Loss: 0.4168, Val Loss: 0.5031\n",
      "Epoch 9/100, Train Loss: 0.3916, Val Loss: 0.4877\n",
      "Epoch 10/100, Train Loss: 0.3676, Val Loss: 0.4746\n",
      "Epoch 11/100, Train Loss: 0.3465, Val Loss: 0.4606\n",
      "Epoch 12/100, Train Loss: 0.3266, Val Loss: 0.4489\n",
      "Epoch 13/100, Train Loss: 0.3128, Val Loss: 0.4380\n",
      "Epoch 14/100, Train Loss: 0.2912, Val Loss: 0.4267\n",
      "Epoch 15/100, Train Loss: 0.2739, Val Loss: 0.4152\n",
      "Epoch 16/100, Train Loss: 0.2604, Val Loss: 0.4047\n",
      "Epoch 17/100, Train Loss: 0.2474, Val Loss: 0.3949\n",
      "Epoch 18/100, Train Loss: 0.2326, Val Loss: 0.3846\n",
      "Epoch 19/100, Train Loss: 0.2216, Val Loss: 0.3751\n",
      "Epoch 20/100, Train Loss: 0.2108, Val Loss: 0.3668\n",
      "Epoch 21/100, Train Loss: 0.1997, Val Loss: 0.3559\n",
      "Epoch 22/100, Train Loss: 0.1860, Val Loss: 0.3463\n",
      "Epoch 23/100, Train Loss: 0.1718, Val Loss: 0.3387\n",
      "Epoch 24/100, Train Loss: 0.1662, Val Loss: 0.3297\n",
      "Epoch 25/100, Train Loss: 0.1567, Val Loss: 0.3216\n",
      "Epoch 26/100, Train Loss: 0.1491, Val Loss: 0.3133\n",
      "Epoch 27/100, Train Loss: 0.1335, Val Loss: 0.3054\n",
      "Epoch 28/100, Train Loss: 0.1280, Val Loss: 0.2992\n",
      "Epoch 29/100, Train Loss: 0.1218, Val Loss: 0.2940\n",
      "Epoch 30/100, Train Loss: 0.1159, Val Loss: 0.2888\n",
      "Epoch 31/100, Train Loss: 0.1102, Val Loss: 0.2838\n",
      "Epoch 32/100, Train Loss: 0.1030, Val Loss: 0.2772\n",
      "Epoch 33/100, Train Loss: 0.0979, Val Loss: 0.2728\n",
      "Epoch 34/100, Train Loss: 0.0901, Val Loss: 0.2673\n",
      "Epoch 35/100, Train Loss: 0.0871, Val Loss: 0.2642\n",
      "Epoch 36/100, Train Loss: 0.0814, Val Loss: 0.2603\n",
      "Epoch 37/100, Train Loss: 0.0812, Val Loss: 0.2549\n",
      "Epoch 38/100, Train Loss: 0.0695, Val Loss: 0.2510\n",
      "Epoch 39/100, Train Loss: 0.0669, Val Loss: 0.2499\n",
      "Epoch 40/100, Train Loss: 0.0610, Val Loss: 0.2468\n",
      "Epoch 41/100, Train Loss: 0.0611, Val Loss: 0.2441\n",
      "Epoch 42/100, Train Loss: 0.0581, Val Loss: 0.2417\n",
      "Epoch 43/100, Train Loss: 0.0549, Val Loss: 0.2386\n",
      "Epoch 44/100, Train Loss: 0.0482, Val Loss: 0.2377\n",
      "Epoch 45/100, Train Loss: 0.0468, Val Loss: 0.2356\n",
      "Epoch 46/100, Train Loss: 0.0486, Val Loss: 0.2341\n",
      "Epoch 47/100, Train Loss: 0.0428, Val Loss: 0.2332\n",
      "Epoch 48/100, Train Loss: 0.0405, Val Loss: 0.2322\n",
      "Epoch 49/100, Train Loss: 0.0399, Val Loss: 0.2327\n",
      "Epoch 50/100, Train Loss: 0.0390, Val Loss: 0.2307\n",
      "Epoch 51/100, Train Loss: 0.0332, Val Loss: 0.2294\n",
      "Epoch 52/100, Train Loss: 0.0321, Val Loss: 0.2287\n",
      "Epoch 53/100, Train Loss: 0.0311, Val Loss: 0.2280\n",
      "Epoch 54/100, Train Loss: 0.0293, Val Loss: 0.2286\n",
      "Epoch 55/100, Train Loss: 0.0287, Val Loss: 0.2270\n",
      "Epoch 56/100, Train Loss: 0.0261, Val Loss: 0.2288\n",
      "Epoch 57/100, Train Loss: 0.0244, Val Loss: 0.2268\n",
      "Epoch 58/100, Train Loss: 0.0236, Val Loss: 0.2263\n",
      "Epoch 59/100, Train Loss: 0.0222, Val Loss: 0.2262\n",
      "Epoch 60/100, Train Loss: 0.0215, Val Loss: 0.2263\n",
      "Epoch 61/100, Train Loss: 0.0212, Val Loss: 0.2277\n",
      "Epoch 62/100, Train Loss: 0.0191, Val Loss: 0.2273\n",
      "Epoch 63/100, Train Loss: 0.0186, Val Loss: 0.2280\n"
     ]
    },
    {
     "ename": "KeyboardInterrupt",
     "evalue": "",
     "output_type": "error",
     "traceback": [
      "\u001b[1;31m---------------------------------------------------------------------------\u001b[0m",
      "\u001b[1;31mKeyboardInterrupt\u001b[0m                         Traceback (most recent call last)",
      "Cell \u001b[1;32mIn[8], line 18\u001b[0m\n\u001b[0;32m     15\u001b[0m     loss\u001b[38;5;241m.\u001b[39mbackward()\n\u001b[0;32m     16\u001b[0m     optimizer\u001b[38;5;241m.\u001b[39mstep()\n\u001b[1;32m---> 18\u001b[0m     running_loss \u001b[38;5;241m+\u001b[39m\u001b[38;5;241m=\u001b[39m \u001b[43mloss\u001b[49m\u001b[38;5;241;43m.\u001b[39;49m\u001b[43mitem\u001b[49m\u001b[43m(\u001b[49m\u001b[43m)\u001b[49m\n\u001b[0;32m     20\u001b[0m avg_train_loss \u001b[38;5;241m=\u001b[39m running_loss \u001b[38;5;241m/\u001b[39m \u001b[38;5;28mlen\u001b[39m(train_loader)\n\u001b[0;32m     21\u001b[0m train_losses\u001b[38;5;241m.\u001b[39mappend(avg_train_loss)\n",
      "\u001b[1;31mKeyboardInterrupt\u001b[0m: "
     ]
    }
   ],
   "source": [
    "num_epochs = 100\n",
    "train_losses = []\n",
    "val_losses = []\n",
    "\n",
    "for epoch in range(num_epochs):\n",
    "    vgg16.train()\n",
    "    running_loss = 0.0\n",
    "\n",
    "    for images, labels in train_loader:\n",
    "        images, labels = images.to(device), labels.to(device)\n",
    "\n",
    "        optimizer.zero_grad()\n",
    "        outputs = vgg16(images)\n",
    "        loss = criterion(outputs, labels)\n",
    "        loss.backward()\n",
    "        optimizer.step()\n",
    "\n",
    "        running_loss += loss.item()\n",
    "\n",
    "    avg_train_loss = running_loss / len(train_loader)\n",
    "    train_losses.append(avg_train_loss)\n",
    "\n",
    "    vgg16.eval()\n",
    "    val_loss = 0.0\n",
    "    with torch.no_grad():\n",
    "        for images, labels in val_loader:\n",
    "            images, labels = images.to(device), labels.to(device)\n",
    "            outputs = vgg16(images)\n",
    "            loss = criterion(outputs, labels)\n",
    "            val_loss += loss.item()\n",
    "\n",
    "    avg_val_loss = val_loss / len(val_loader)\n",
    "    val_losses.append(avg_val_loss)\n",
    "\n",
    "    print(f\"Epoch {epoch+1}/{num_epochs}, Train Loss: {avg_train_loss:.4f}, Val Loss: {avg_val_loss:.4f}\")\n",
    "\n",
    "plt.figure(figsize=(10, 5))\n",
    "plt.plot(range(1, num_epochs + 1), train_losses, label=\"Train Loss\", marker='o')\n",
    "plt.plot(range(1, num_epochs + 1), val_losses, label=\"Validation Loss\", marker='s')\n",
    "\n",
    "plt.xlabel(\"Epoch\")\n",
    "plt.ylabel(\"Loss\")\n",
    "plt.title(\"Training and Validation Loss Over Epochs\")\n",
    "plt.legend()\n",
    "plt.grid()\n",
    "plt.show()"
   ]
  },
  {
   "cell_type": "code",
   "execution_count": null,
   "metadata": {},
   "outputs": [],
   "source": [
    "vgg16.eval()\n",
    "\n",
    "y_true = []\n",
    "y_pred = []\n",
    "\n",
    "with torch.no_grad():\n",
    "    for images, labels in test_loader:\n",
    "        images, labels = images.to(device), labels.to(device)\n",
    "\n",
    "        outputs = vgg16(images)\n",
    "        _, predicted = torch.max(outputs, 1)\n",
    "\n",
    "        y_true.extend(labels.cpu().numpy())\n",
    "        y_pred.extend(predicted.cpu().numpy())\n",
    "\n",
    "acc = accuracy_score(y_true, y_pred)\n",
    "print(acc)\n",
    "result = classification_report(y_true, y_pred)\n",
    "print(result)\n"
   ]
  },
  {
   "cell_type": "code",
   "execution_count": null,
   "metadata": {},
   "outputs": [],
   "source": [
    "cm = confusion_matrix(y_true, y_pred)\n",
    "\n",
    "plt.figure(figsize=(6, 5))\n",
    "sns.heatmap(cm, annot=True, fmt=\"d\", cmap=\"Blues\", xticklabels=[\"Class 0\", \"Class 1\"], yticklabels=[\"Class 0\", \"Class 1\"])\n",
    "\n",
    "plt.xlabel(\"Predicted Label\")\n",
    "plt.ylabel(\"True Label\")\n",
    "plt.title(\"Confusion Matrix\")\n",
    "plt.show()"
   ]
  },
  {
   "cell_type": "code",
   "execution_count": null,
   "metadata": {},
   "outputs": [],
   "source": []
  }
 ],
 "metadata": {
  "kernelspec": {
   "display_name": "Python 3",
   "language": "python",
   "name": "python3"
  },
  "language_info": {
   "codemirror_mode": {
    "name": "ipython",
    "version": 3
   },
   "file_extension": ".py",
   "mimetype": "text/x-python",
   "name": "python",
   "nbconvert_exporter": "python",
   "pygments_lexer": "ipython3",
   "version": "3.11.5"
  }
 },
 "nbformat": 4,
 "nbformat_minor": 2
}
